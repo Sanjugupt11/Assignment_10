{
 "cells": [
  {
   "cell_type": "code",
   "execution_count": 2,
   "id": "8cf35c11-171a-4f0d-938e-25727022b4d8",
   "metadata": {},
   "outputs": [],
   "source": [
    "#Q1, Create a vehicle class with an init method having instance variables as name_of_vehicle, max_speed\n",
    "#and average_of_vehicle."
   ]
  },
  {
   "cell_type": "code",
   "execution_count": 8,
   "id": "15af63f5-6a4d-4407-90e6-0e6558e1fb92",
   "metadata": {},
   "outputs": [],
   "source": [
    "class Vehicle:\n",
    "    def __init__(self,name_of_vehicle, max_speed,average_of_vehicle):\n",
    "        self.name=name_of_vehicle\n",
    "        self.speed=max_speed\n",
    "        self.aver=average_of_vehicle\n",
    "    def  vehicledetail(self):\n",
    "        return self.name,self.speed,self.aver\n",
    "    "
   ]
  },
  {
   "cell_type": "code",
   "execution_count": 10,
   "id": "db2c290b-f39c-4f75-87e5-f1d389e42def",
   "metadata": {},
   "outputs": [
    {
     "data": {
      "text/plain": [
       "('car', 100, 120)"
      ]
     },
     "execution_count": 10,
     "metadata": {},
     "output_type": "execute_result"
    }
   ],
   "source": [
    "A=Vehicle('car',100,120)\n",
    "A.vehicledetail()"
   ]
  },
  {
   "cell_type": "code",
   "execution_count": 2,
   "id": "cc8fb9c2-b0b0-44a0-8bb0-4e7c28182852",
   "metadata": {},
   "outputs": [
    {
     "data": {
      "text/plain": [
       "'Q2. Create a child class car from the vehicle class created in Que 1, which will inherit the vehicle class.\\nCreate a method named seating_capacity which takes capacity as an argument and returns the name of\\nthe vehicle and its seating capacity.'"
      ]
     },
     "execution_count": 9,
     "metadata": {},
     "output_type": "execute_result"
    }
   ],
   "source": [
    "'''Q2. Create a child class car from the vehicle class created in Que 1, which will inherit the vehicle class.\n",
    "Create a method named seating_capacity which takes capacity as an argument and returns the name of\n",
    "the vehicle and its seating capacity.'''\n",
    "\n"
   ]
  },
  {
   "cell_type": "code",
   "execution_count": 27,
   "id": "8559baf5-212f-44a3-aed2-92cfec0fc108",
   "metadata": {},
   "outputs": [
    {
     "name": "stdout",
     "output_type": "stream",
     "text": [
      "BMW\n",
      "4\n"
     ]
    }
   ],
   "source": [
    "class vehicle:\n",
    "  \n",
    "    def __init__(self,name,speed):\n",
    "        self.name =name\n",
    "        self.speed =speed\n",
    "       \n",
    "    def display(self):\n",
    "        print(self.name)\n",
    "        print(self.speed)\n",
    "        \n",
    "class car(vehicle):\n",
    "    def __init__(self,name,speed,capacity):\n",
    "        self.capacity = capacity\n",
    "       \n",
    "        # invoking the __init__ of the parent class\n",
    "        vehicle.__init__(self,name,capacity)\n",
    "\n",
    "b = car('BMW', 100, 4)\n",
    "b.display()"
   ]
  },
  {
   "cell_type": "code",
   "execution_count": 31,
   "id": "11b8d2aa-0a69-4ddb-8757-90ae02286a01",
   "metadata": {},
   "outputs": [
    {
     "data": {
      "text/plain": [
       "' it is an mother class'"
      ]
     },
     "execution_count": 31,
     "metadata": {},
     "output_type": "execute_result"
    }
   ],
   "source": [
    "'''Q3. What is multiple inheritance? Write a python code to demonstrate multiple inheritance.\n",
    "When a class is derived from more than one base class it is called multiple Inheritance.'''\n",
    "# Example\n",
    "class father:\n",
    "    def class1(self):\n",
    "        return \"it is father class \"\n",
    "class mother:\n",
    "    def class2(self):\n",
    "        return \" it is an mother class\"\n",
    "class child(father,mother):\n",
    "    pass\n",
    "\n",
    "child_obj=child()\n",
    "child_obj.class1()\n",
    "child_obj.class2()"
   ]
  },
  {
   "cell_type": "code",
   "execution_count": 39,
   "id": "32944df0-feea-4172-bf54-78e269d4d651",
   "metadata": {},
   "outputs": [
    {
     "data": {
      "text/plain": [
       "123"
      ]
     },
     "execution_count": 39,
     "metadata": {},
     "output_type": "execute_result"
    }
   ],
   "source": [
    "'''Q4. What are getter and setter in python? Create a class and create a getter and a setter method in this class.\n",
    "Answer:Getters: These are the methods used in Object-Oriented Programming (OOPS) which helps to access the private attributes from a class.\n",
    "Setters: These are the methods used in OOPS feature which helps to set the value to private attributes in a class.'''\n",
    "\n",
    "#Example:\n",
    "class car:\n",
    "    def __init__(self,name,time,kilometer):\n",
    "        self.__name=name\n",
    "        self.__time=time\n",
    "        self.__kilometer=kilometer \n",
    "    def set_speed(self,kilometer):\n",
    "        self.__kilometer=kilometer if kilometer<0 else kilometer\n",
    "    def get_speed(self):\n",
    "        return  self.__kilometer\n",
    "         \n",
    "A=car('sanju',1,17)\n",
    "A.set_speed(123)\n",
    "A.get_speed()"
   ]
  },
  {
   "cell_type": "code",
   "execution_count": null,
   "id": "d9828ea8-75c4-42d7-a6f4-66c61ce19ed0",
   "metadata": {},
   "outputs": [],
   "source": []
  },
  {
   "cell_type": "code",
   "execution_count": null,
   "id": "9970835c-b51e-4ebe-9808-ed0a7d73eeaa",
   "metadata": {},
   "outputs": [],
   "source": [
    "'''Q5.What is method overriding in python? Write a python code to demonstrate method overriding.\n",
    "Method overriding is an ability of any object-oriented programming language that allows a subclass or child class\n",
    "to provide a specific implementation of a method that is already provided by one of its super-classes or parent classes.\n",
    "When a method in a subclass has the same name, same parameters or signature and same return type(or sub-type) as a method in \n",
    "its super-class, then the method in the subclass is said to override the method in the super-class.'''\n",
    "#Example:-\n",
    "\n"
   ]
  }
 ],
 "metadata": {
  "kernelspec": {
   "display_name": "Python 3 (ipykernel)",
   "language": "python",
   "name": "python3"
  },
  "language_info": {
   "codemirror_mode": {
    "name": "ipython",
    "version": 3
   },
   "file_extension": ".py",
   "mimetype": "text/x-python",
   "name": "python",
   "nbconvert_exporter": "python",
   "pygments_lexer": "ipython3",
   "version": "3.10.8"
  }
 },
 "nbformat": 4,
 "nbformat_minor": 5
}
